{
 "cells": [
  {
   "cell_type": "code",
   "execution_count": 14,
   "id": "a490cd1f-ed41-4a4e-a132-10a836a597a9",
   "metadata": {},
   "outputs": [
    {
     "name": "stdout",
     "output_type": "stream",
     "text": [
      "Continuous data collection started.\n",
      "Exiting. Data saved to data\\continuous\\continuous_20250218_163302.csv\n"
     ]
    }
   ],
   "source": [
    "import cv2\n",
    "import mediapipe as mp\n",
    "import csv\n",
    "import os\n",
    "import time\n",
    "\n",
    "# 데이터 위치 셋업\n",
    "output_dir = r\"data\\continuous\"\n",
    "if not os.path.exists(output_dir):\n",
    "    os.makedirs(output_dir)\n",
    "\n",
    "# 파일 생성\n",
    "timestamp_str = time.strftime(\"%Y%m%d_%H%M%S\")\n",
    "\n",
    "# 이름 설정. (ex. 동작 번호 이름 매겨주세요 123 345 567)\n",
    "csv_filename = os.path.join(output_dir, f\"12345.csv\")\n",
    "\n",
    "# 미디어파이프 기본 설정값.\n",
    "mp_hands = mp.solutions.hands\n",
    "hands = mp_hands.Hands(\n",
    "    static_image_mode=False,         # For video stream\n",
    "    max_num_hands=2,                 # Maximum 2 hands\n",
    "    min_detection_confidence=0.5,    # Detection confidence threshold\n",
    "    min_tracking_confidence=0.5      # Tracking confidence threshold\n",
    ")\n",
    "\n",
    "mp_drawing = mp.solutions.drawing_utils\n",
    "\n",
    "# 웹캠 오픈\n",
    "cap = cv2.VideoCapture(0)\n",
    "cap.set(cv2.CAP_PROP_FRAME_WIDTH, 640)\n",
    "cap.set(cv2.CAP_PROP_FRAME_HEIGHT, 480)\n",
    "\n",
    "exit_requested = False\n",
    "print(\"Continuous data collection started.\")\n",
    "\n",
    "\n",
    "with open(csv_filename, \"w\", newline=\"\") as csvfile:\n",
    "    writer = csv.writer(csvfile)\n",
    "    \n",
    "    \n",
    "    header = [\"timestamp\", \"hand_detected\"]\n",
    "    for hand in ['hand1', 'hand2']:\n",
    "        for i in range(21):\n",
    "            header.extend([f\"{hand}_landmark{i}_x\", f\"{hand}_landmark{i}_y\", f\"{hand}_landmark{i}_z\"])\n",
    "    writer.writerow(header)\n",
    "\n",
    "    while not exit_requested:\n",
    "        ret, frame = cap.read()\n",
    "        if not ret:\n",
    "            print(\"Error: Could not retrieve frame.\")\n",
    "            break\n",
    "\n",
    "        \n",
    "        frame = cv2.flip(frame, 1)\n",
    "        image_rgb = cv2.cvtColor(frame, cv2.COLOR_BGR2RGB)\n",
    "        image_rgb.flags.writeable = False\n",
    "        results = hands.process(image_rgb)\n",
    "        image_rgb.flags.writeable = True\n",
    "\n",
    "        \n",
    "        ts = time.time()\n",
    "        row = [ts]\n",
    "\n",
    "        \n",
    "        if results.multi_hand_landmarks:\n",
    "            hand_detected = 1\n",
    "        else:\n",
    "            hand_detected = 0\n",
    "        row.append(hand_detected)\n",
    "\n",
    "        if results.multi_hand_landmarks:\n",
    "           \n",
    "            landmarks_all = []\n",
    "            for hand_landmarks in results.multi_hand_landmarks:\n",
    "                landmarks = []\n",
    "                for lm in hand_landmarks.landmark:\n",
    "                    landmarks.extend([lm.x, lm.y, lm.z])\n",
    "                landmarks_all.append(landmarks)\n",
    "            # 첫 번째 손 정보 저장\n",
    "            row.extend(landmarks_all[0])\n",
    "            # 두 번째 손 정보: 만약 검출되지 않았다면 63개의 0으로 채움\n",
    "            if len(landmarks_all) >= 2:\n",
    "                row.extend(landmarks_all[1])\n",
    "            else:\n",
    "                row.extend([0] * 63)\n",
    "        else:\n",
    "            # 손이 전혀 검출되지 않은 경우, 두 손 모두 126개의 0으로 채움\n",
    "            row.extend([0] * 126)\n",
    "\n",
    "        writer.writerow(row)\n",
    "\n",
    "        if results.multi_hand_landmarks:\n",
    "            for hand_landmarks in results.multi_hand_landmarks:\n",
    "                mp_drawing.draw_landmarks(frame, hand_landmarks, mp_hands.HAND_CONNECTIONS)\n",
    "\n",
    "        cv2.imshow(\"Continuous Data Collection\", frame)\n",
    "        key = cv2.waitKey(1) & 0xFF\n",
    "        if key == ord('q'):\n",
    "            exit_requested = True\n",
    "\n",
    "# 끝\n",
    "cap.release()\n",
    "cv2.destroyAllWindows()\n",
    "hands.close()\n",
    "print(f\"Exiting. Data saved to {csv_filename}\")"
   ]
  },
  {
   "cell_type": "code",
   "execution_count": 3,
   "id": "c264b0c7-6f67-4e16-887a-8d8ef50ce3f2",
   "metadata": {},
   "outputs": [
    {
     "name": "stdout",
     "output_type": "stream",
     "text": [
      "TensorFlow version: 2.18.0\n"
     ]
    }
   ],
   "source": [
    "import tensorflow as tf\n",
    "print(\"TensorFlow version:\", tf.__version__)"
   ]
  },
  {
   "cell_type": "code",
   "execution_count": null,
   "id": "4c98e6b6-995d-451b-a22a-233a89da2348",
   "metadata": {},
   "outputs": [],
   "source": []
  }
 ],
 "metadata": {
  "kernelspec": {
   "display_name": "tf218_keras37",
   "language": "python",
   "name": "tf218_keras37"
  },
  "language_info": {
   "codemirror_mode": {
    "name": "ipython",
    "version": 3
   },
   "file_extension": ".py",
   "mimetype": "text/x-python",
   "name": "python",
   "nbconvert_exporter": "python",
   "pygments_lexer": "ipython3",
   "version": "3.9.21"
  }
 },
 "nbformat": 4,
 "nbformat_minor": 5
}
